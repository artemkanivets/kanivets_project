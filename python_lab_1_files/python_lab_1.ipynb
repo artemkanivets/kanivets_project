{
 "cells": [
  {
   "cell_type": "markdown",
   "metadata": {},
   "source": [
    "---\n",
    "title: \"Лабораторна робота №1. Інсталяція та налаштування Python-середовища\"\n",
    "description:\n",
    "  Документ зроблено за допомогою [Quarto](https://quarto.org/)\n",
    "author: \"&copy; [Artem Kanivets], 2023\"\n",
    "lang: ukr\n",
    "format:\n",
    "  html:\n",
    "    code-fold: true\n",
    "    toc: true # меню\n",
    "    toc_float: # спливаюче меню  \n",
    "      collapsed: true # авто\n",
    "      number_sections: true\n",
    "jupyter: python3\n",
    "---"
   ]
  },
  {
   "cell_type": "markdown",
   "metadata": {},
   "source": [
    "__Мета:__ _quick start для роботи з python3 у середовищі IDE PyCharm системою контроля версій git._"
   ]
  },
  {
   "cell_type": "markdown",
   "metadata": {
    "tags": []
   },
   "source": [
    "## Завдання для самостіної роботи\n",
    "\n",
    "1. Створити файл __lab_1_StudentLastName.py__ з кодом, який виводить фразу __\"Привіт, Ваше Прізвище\"__.\n"
   ]
  },
  {
   "cell_type": "code",
   "execution_count": 2,
   "metadata": {
    "tags": []
   },
   "outputs": [
    {
     "name": "stdout",
     "output_type": "stream",
     "text": [
      "Привіт,Канівець\n"
     ]
    }
   ],
   "source": [
    "print('Привіт,Канівець')\n"
   ]
  },
  {
   "attachments": {
    "8939e385-f6fc-4474-a61e-0ea3710a9760.png": {
     "image/png": "[encoded data removed]"
    }
   },
   "cell_type": "markdown",
   "metadata": {
    "tags": []
   },
   "source": [
    "\n",
    "![](attachment:8939e385-f6fc-4474-a61e-0ea3710a9760.png)"
   ]
  },
  {
   "cell_type": "markdown",
   "metadata": {},
   "source": [
    "## Контрольні запитання\n",
    "\n",
    "1. У чому відмінність інтерпретатора від компілятора? Python -- компілятор чи інтерпретатор?\n",
    "Python -- інтерпретатор.Інтерпретатор зчитує програмний код рядок за рядком і виконує його одразу ж, а компілятор перетворює вихідний код програми у виконуваний файл\n",
    "\n",
    "1. Що таке IDE PyCharm?\n",
    "Це інтегроване середовище розробки, призначене для програмування на мові Python.\n",
    "\n",
    "1. Що таке система контроля версій (СКВ) і для чого вона призначена? У чому принципова відмінність СКВ SVN та GIT?\n",
    "СКВ - це інструмент, який використовується для відстеження та управління змінами в програмному коді та інших версійних об'єктах.\n",
    "Принципова відмінність між SVN та GIT: легкість використання,швидкість та продуктивність,модель зберігання даних.\n",
    "\n",
    "1. Що відбувається при виконанні команди `git add .`?\n",
    "Додавання всіх змінених файлів та нових файлів в робочій директорії до індексу у системі контролю версій Git.\n",
    "\n",
    "1. Що відбувається при виконанні команди `git commit`?\n",
    "Створення нового коміту.\n",
    "\n",
    "1. Якою Git-командою виконується розміщення локальної копії Git-репозиторію проєкта на віддаленому, що знаходиться на GitHub?\n",
    "Використовується команда 'git push'.\n"
   ]
  },
  {
   "cell_type": "markdown",
   "metadata": {},
   "source": [
    "## References"
   ]
  },
  {
   "cell_type": "markdown",
   "metadata": {},
   "source": [
    "1. [Anaconda (Python distribution)](https://uk.wikipedia.org/wiki/Anaconda_(Python_distribution))\n",
    "2. [Conda](https://conda.io/en/latest/)\n",
    "3. [Pro Git Book](https://git-scm.com/book/en/v2)\n",
    "4. [OpenEDG Python Institute](https://pythoninstitute.org/)\n",
    "5. [Cisco. Networking Academy](https://www.netacad.com/) \n",
    "6. [ЧТО ТАКОЕ ЯП PYTHON? УСТАНОВКА ПАЙТОНА НА WINDOWS 11 !](https://www.youtube.com/watch?v=nQMddf_6KoM&list=PLV0FNhq3XMOKljD7POtuWVAZn8wXcn4-L)\n",
    "1. [Научно-издательская система Quarto](https://data-visualization-blog.netlify.app/posts/quarto/)\n",
    "1. [The Python Standard Library](https://docs.python.org/3/library/index.html)\n",
    "1. [Callout Blocks. Markdown Syntax](https://quarto.org/docs/authoring/callouts.html)  "
   ]
  }
 ],
 "metadata": {
  "kernelspec": {
   "display_name": "Python 3 (ipykernel)",
   "language": "python",
   "name": "python3"
  },
  "language_info": {
   "codemirror_mode": {
    "name": "ipython",
    "version": 3
   },
   "file_extension": ".py",
   "mimetype": "text/x-python",
   "name": "python",
   "nbconvert_exporter": "python",
   "pygments_lexer": "ipython3",
   "version": "3.11.4"
  },
  "widgets": {
   "application/vnd.jupyter.widget-state+json": {
    "state": {},
    "version_major": 2,
    "version_minor": 0
   }
  }
 },
 "nbformat": 4,
 "nbformat_minor": 4
}
