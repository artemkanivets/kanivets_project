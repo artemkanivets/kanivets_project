{
 "cells": [
  {
   "cell_type": "markdown",
   "metadata": {},
   "source": [
    "---\n",
    "title: \"Лабораторна робота №9. Рядки. Методи рядків і списків. Частина І\"\n",
    "description:\n",
    "  Документ зроблено в [Quarto](https://quarto.org/)\n",
    "author: \"&copy; [<span style='color: blue;'>Artem Kanivets </span>], 2023\"\n",
    "lang: ukr\n",
    "format:\n",
    "  html:\n",
    "    code-fold: true\n",
    "    toc: true # меню\n",
    "    toc_float: # спливаюче меню  \n",
    "      collapsed: true # авто\n",
    "      number_sections: true\n",
    "jupyter: python3\n",
    "---"
   ]
  },
  {
   "cell_type": "markdown",
   "metadata": {},
   "source": [
    "__Мета:__ _навчитися обробляти рядки за допомогою спеціальних функцій і методів._"
   ]
  },
  {
   "cell_type": "markdown",
   "metadata": {},
   "source": [
    "::: callout-note\n",
    "## Примітка\n",
    "У лабораторній роботі використано матеріали [python institute.](https://pythoninstitute.org/pcep)\n",
    ":::"
   ]
  },
  {
   "cell_type": "markdown",
   "metadata": {},
   "source": [
    "::: callout-note\n",
    "## Примітка\n",
    "Попередньо потрібно опрацювати лекцію 10.\n",
    ":::"
   ]
  },
  {
   "cell_type": "markdown",
   "metadata": {
    "tags": []
   },
   "source": [
    "#### Що ви будете вміти?\n",
    "* обробляти рядки за допомогою спеціальних функцій і методів Python;\n",
    "* сумісно обробляти рядки і списки."
   ]
  },
  {
   "cell_type": "markdown",
   "metadata": {},
   "source": [
    "## Основні методи та функції для обробки рядків"
   ]
  },
  {
   "cell_type": "markdown",
   "metadata": {},
   "source": [
    "### Основні методи для обробки рядків"
   ]
  },
  {
   "cell_type": "markdown",
   "metadata": {},
   "source": [
    "* `capitalize()` – замінює всі мали букви на великі;\n",
    "* `center()` – центрує рядок всередині поля відомої довжини;\n",
    "* `count()` – рахує кількість входжень даного символу в рядку;\n",
    "* `join()` – з'єднує всі елементи кортежу/списку в один рядок;\n",
    "* `lower()` – перетворює всі літери рядка на малі;\n",
    "* `lstrip()` – видаляє білі символи з початку рядка;\n",
    "* `replace()` – замінює задану підрядок іншим;\n",
    "* `rfind()` – знаходить підрядок, пошук починається з кінця рядка;\n",
    "* `rstrip()` – видаляє білі символи з кінця рядка;\n",
    "* `split()` – розбиває рядок на підрядки з використанням заданого роздільника;\n",
    "* `strip()` – видаляє білі символи з початку і кінця рядка;\n",
    "* `swapcase()` – змінює регістр літер на протилежний (малі на великі і навпаки);\n",
    "* `title()` – робить першу літеру в кожному слові великою;\n",
    "* `upper()` – перетворює всі літери рядка на великі.\n"
   ]
  },
  {
   "cell_type": "markdown",
   "metadata": {},
   "source": [
    "### Аналіз вмісту рядків "
   ]
  },
  {
   "cell_type": "markdown",
   "metadata": {},
   "source": [
    "Содержимое строки можна визначити за допомогою наступних методів (вони повертають логічні значення):\n",
    "\n",
    "* `endswith()` - закінчується рядок заданою підстрокою?\n",
    "* `isalnum()` - складається рядок лише з букв і цифр?\n",
    "* `isalpha()` - складається рядок лише з букв?\n",
    "* `islower()` - складається рядок лише з малих літер?\n",
    "* `isspace()` - складається рядок лише з пробільних символів?\n",
    "* `isupper()` - складається рядок лише з великих літер?\n",
    "* `startswith()` - починається рядок з даної підстроки?"
   ]
  },
  {
   "cell_type": "markdown",
   "metadata": {},
   "source": [
    "::: callout-important\n",
    "## Важливо!\n",
    "\n",
    "Не всі методи можуть змінювати рядок \"на місці\", декотрі створюють копію.\n",
    ":::"
   ]
  },
  {
   "cell_type": "markdown",
   "metadata": {},
   "source": [
    "### Приклад 1\n",
    "\n",
    "Написати власну функцію, яка працює практично так само, як оригінальний метод `split()`, а саме:\n",
    "\n",
    "* вона повинна приймати рівно один аргумент - рядок;\n",
    "* вона повинна повертати список слів, які можна створити з даного рядка, розділивши його пробілами;\n",
    "* якщо рядок порожній, функція повинна повертати порожній список;\n",
    "* ім'я функції `mysplit()`.\n",
    "* Використовуйте шаблон у редакторі. Добре протестуйте свій код. "
   ]
  },
  {
   "cell_type": "code",
   "execution_count": 2,
   "metadata": {},
   "outputs": [
    {
     "name": "stdout",
     "output_type": "stream",
     "text": [
      "['To', 'be', 'or', 'not', 'to', 'be,', 'that', 'is', 'the', 'question']\n",
      "['To', 'be', 'or', 'not', 'to', 'be,that', 'is', 'the', 'question']\n",
      "[]\n",
      "['abc']\n",
      "[]\n"
     ]
    }
   ],
   "source": [
    "# Тут має бути Ваш код\n",
    "# Написати метод аналогічний split()\n",
    "\n",
    "# I варінат (некрасивий, але, можливо, оптимальніший, ніж ІІ)\n",
    "# def mysplit(string):\n",
    "#     string = string.lstrip() # метод strip() не змінює об'єкт, а створює копію!\n",
    "\n",
    "#     list_split = []\n",
    "\n",
    "#     if string.isspace() or string == \"\": # якщо рядок пустий, або з одних пробілів\n",
    "#         return list_split\n",
    "\n",
    "#     if string.find(' ') == -1: # якщо з одного слова\n",
    "#         list_split.append(string)\n",
    "#         return list_split\n",
    "\n",
    "#     fnd_1 = 0\n",
    "#     fnd_2 = string.find(' ')\n",
    "\n",
    "#     while fnd_2 != -1:\n",
    "#         list_split.append(string[fnd_1:fnd_2])\n",
    "#         fnd_1 = fnd_2\n",
    "#         fnd_2 = string.find(' ', fnd_2 + 1)\n",
    "\n",
    "#     return list_split\n",
    "\n",
    "# ІІ варіант (красивий, але не факт, що оптимальний)\n",
    "\n",
    "def mysplit(string):\n",
    "    list_split = []\n",
    "    word = \"\"\n",
    "    for char in string:\n",
    "        if char == \" \":\n",
    "            if word:\n",
    "                list_split.append(word)\n",
    "            word = \"\"\n",
    "        else:\n",
    "            word += char\n",
    "    if word:\n",
    "        list_split.append(word)\n",
    "    return list_split\n",
    "\n",
    "\n",
    "print(mysplit(\"To be or not to be, that is the question\"))\n",
    "print(mysplit(\"To be or not to be,that is the question\"))\n",
    "print(mysplit(\"   \"))\n",
    "print(mysplit(\" abc \"))\n",
    "print(mysplit(\"\"))"
   ]
  },
  {
   "attachments": {
    "f0492ab8-9435-4dbd-8bf8-fd83e1dc1363.png": {
     "image/png": "[encoded data removed]"
    }
   },
   "cell_type": "markdown",
   "metadata": {},
   "source": [
    "![](attachment:f0492ab8-9435-4dbd-8bf8-fd83e1dc1363.png)"
   ]
  },
  {
   "cell_type": "markdown",
   "metadata": {},
   "source": [
    "### Очікуваний вивод "
   ]
  },
  {
   "cell_type": "markdown",
   "metadata": {},
   "source": [
    "`['To', 'be', 'or', 'not', 'to', 'be,', 'that', 'is', 'the', 'question']`  \n",
    "`['To', 'be', 'or', 'not', 'to', 'be,that', 'is', 'the', 'question']`  \n",
    "`[]`  \n",
    "`['abc']`  \n",
    "`[]`  "
   ]
  },
  {
   "attachments": {
    "21250a7b-b676-4693-a88d-f94c6c6b1af3.png": {
     "image/png": "[encoded data removed]"
    }
   },
   "cell_type": "markdown",
   "metadata": {},
   "source": [
    "### Приклад 2\n",
    "\n",
    "Ви, дійсно, бачили семисегментний дисплей.\n",
    "\n",
    "Це пристрій (іноді електронний, іноді механічний), який призначений для відображення однієї десяткової цифри за допомогою підмножини з семи сегментів. Якщо ви все ще не знаєте, що це таке, зверніться до статті у Вікіпедії.\n",
    "\n",
    "Ваше завдання - написати програму, яка здатна імітувати роботу пристрою з семисегментним дисплеєм, хоча краще все ж таки використовувати окремі світлодіоди замість сегментів.\n",
    "\n",
    "Кожна цифра складається з 13 світлодіодів (деякі горять, деякі вимкнені) -- ось як ми це уявляємо:\n",
    "\n",
    "![_Цифри у семисегментному поданні_](attachment:21250a7b-b676-4693-a88d-f94c6c6b1af3.png)\n",
    "\n",
    "Примітка: цифра 8 показує всі світлодіоди, які включені.\n",
    "\n",
    "Ваш код повинен відображати будь-яке невід'ємне ціле число, введене користувачем.\n",
    "\n",
    "::: callout-note\n",
    "## Порада\n",
    "Використання списку з десятьма цифрами може бути дуже корисним.\n",
    ":::"
   ]
  },
  {
   "cell_type": "markdown",
   "metadata": {},
   "source": [
    "### Тестові данні"
   ]
  },
  {
   "attachments": {
    "f9ecb923-3c00-4ead-b62d-89448f061641.png": {
     "image/png": "[encoded data removed]"
    }
   },
   "cell_type": "markdown",
   "metadata": {},
   "source": [
    "Приклад вводу:  \n",
    "\n",
    "`123`  \n",
    "\n",
    "Приклад виводу:  \n",
    "\n",
    "![image.png](attachment:f9ecb923-3c00-4ead-b62d-89448f061641.png)"
   ]
  },
  {
   "cell_type": "code",
   "execution_count": 5,
   "metadata": {},
   "outputs": [
    {
     "name": "stdout",
     "output_type": "stream",
     "text": [
      "  # ### ### # # ### \n",
      "  #   #   # # # #   \n",
      "  # ### ### ### ### \n",
      "  # #     #   #   # \n",
      "  # ### ###   # ### \n"
     ]
    }
   ],
   "source": [
    "number_input = int(input('Введіть ціле число: '))\n",
    "number_list = [str(i) for i in range(0, 10)]\n",
    "number_dict = {'1' : ('  #', '  #', '  #', '  #', '  #'),\n",
    "               '2' : ('###', '  #', '###', '#  ', '###'),\n",
    "               '3' : ('###', '  #', '###', '  #', '###'),\n",
    "               '4' : ('# #', '# #', '###', '  #', '  #'),\n",
    "               '5' : ('###', '#  ', '###', '  #', '###'),\n",
    "               '6' : ('###', '#  ', '###', '# #', '###'),\n",
    "               '7' : ('###', '  #', '  #', '  #', '  #'),\n",
    "               '8' : ('###', '# #', '###', '# #', '###'),\n",
    "               '9' : ('###', '# #', '###', '  #', '###'),\n",
    "               '0' : ('###', '# #', '# #', '# #', '###')\n",
    "               }\n",
    "def display_number(num):\n",
    "    if num < 0:\n",
    "        print(\"Число має бути невід'ємним.\")\n",
    "        return\n",
    "\n",
    "    num_str = str(num)\n",
    "\n",
    "    for level in range(5):\n",
    "        for simbol in num_str:\n",
    "            print(number_dict[simbol][level], end=' ')\n",
    "        print()\n",
    "\n",
    "print(display_number(number_input))\n"
   ]
  },
  {
   "attachments": {
    "f34a2465-e757-49ea-8985-8071f9bd02bc.png": {
     "image/png": "[encoded data removed]"
    }
   },
   "cell_type": "markdown",
   "metadata": {},
   "source": [
    "![](attachment:f34a2465-e757-49ea-8985-8071f9bd02bc.png)"
   ]
  },
  {
   "cell_type": "markdown",
   "metadata": {},
   "source": [
    "### Приклад 3\n",
    "[__Шифр Цезаря__](https://uk.wikipedia.org/wiki/Шифр_Цезаря)\n",
    "\n",
    "Цей шифр був (мабуть) винайдений і використаний Гаєм Юлієм Цезарем та його військами під час Галльських війн. Ідея досить проста - кожна буква повідомлення замінюється на найближчу наступну (_A_ стає _B_, _B_ стає _C_ тощо). Єдиним виключенням є буква _Z_, яка стає _A_.\n",
    "\n",
    "Напишіть __програму для шифрування поввідомлення__, використовуючи такі припущення:\n",
    "\n",
    "* вона приймає лише латинські літери (примітка: римляни не використовували пробіли, ні цифри);\n",
    "* всі літери повідомлення знаходяться у верхньому регістрі (примітка: римляни знали лише великі літери)."
   ]
  },
  {
   "cell_type": "code",
   "execution_count": 2,
   "metadata": {},
   "outputs": [
    {
     "name": "stdin",
     "output_type": "stream",
     "text": [
      "Enter your message:  I love You\n"
     ]
    },
    {
     "name": "stdout",
     "output_type": "stream",
     "text": [
      "JMPWFZPV\n"
     ]
    }
   ],
   "source": [
    "# Caesar cipher.\n",
    "text = input(\"Enter your message: \")\n",
    "cipher = ''\n",
    "for char in text:\n",
    "    if not char.isalpha():\n",
    "        continue\n",
    "    char = char.upper()\n",
    "    code = ord(char) + 1\n",
    "    if code > ord('Z'):\n",
    "        code = ord('A')\n",
    "    cipher += chr(code)\n",
    "\n",
    "print(cipher)"
   ]
  },
  {
   "attachments": {
    "1a218f0e-5e66-414a-ac2e-243d63c707c6.png": {
     "image/png": "[encoded data removed]"
    }
   },
   "cell_type": "markdown",
   "metadata": {},
   "source": [
    "![](attachment:1a218f0e-5e66-414a-ac2e-243d63c707c6.png)"
   ]
  },
  {
   "cell_type": "markdown",
   "metadata": {},
   "source": [
    "### Приклад 4\n",
    "\n",
    "Напишить __програму для дешифрування повідомлення__, зашифрованого шифром Цезара."
   ]
  },
  {
   "cell_type": "code",
   "execution_count": 3,
   "metadata": {},
   "outputs": [
    {
     "name": "stdin",
     "output_type": "stream",
     "text": [
      "Enter your cryptogram:  JMPWFZPV\n"
     ]
    },
    {
     "name": "stdout",
     "output_type": "stream",
     "text": [
      "ILOVEYOU\n"
     ]
    }
   ],
   "source": [
    "\n",
    "# Caesar cipher - decrypting a message.\n",
    "cipher = input('Enter your cryptogram: ')\n",
    "text = ''\n",
    "for char in cipher:\n",
    "    if not char.isalpha():\n",
    "        continue\n",
    "    char = char.upper()\n",
    "    code = ord(char) - 1\n",
    "    if code < ord('A'):\n",
    "        code = ord('Z')\n",
    "    text += chr(code)\n",
    "\n",
    "print(text)"
   ]
  },
  {
   "attachments": {
    "4ca30d24-363b-433b-baa1-afe7472fad2e.png": {
     "image/png": "[encoded data removed]"
    }
   },
   "cell_type": "markdown",
   "metadata": {},
   "source": [
    "![](attachment:4ca30d24-363b-433b-baa1-afe7472fad2e.png)"
   ]
  },
  {
   "cell_type": "markdown",
   "metadata": {},
   "source": [
    "### Завдання 1"
   ]
  },
  {
   "cell_type": "markdown",
   "metadata": {},
   "source": [
    "Ви вже знайомі з шифром Цезаря, і тому ми хочемо, щоб Ви покращили код, який ми нещодавно показували.\n",
    "\n",
    "Вихідний шифр Цезаря зрушує кожен символ однією: a стає b, z стає a, тощо. Давайте зробимо його трохи складнішим і дозволимо зміщеному значенню вийти з діапазону 1-25 включно.\n",
    "\n",
    "Крім того, нехай код зберігає регістр літер (малі літери залишаться малими), а всі неалфавітні символи повинні залишитися без змін.\n",
    "\n",
    "Ваше завдання - написати програму, яка:\n",
    "\n",
    "запитує у користувача рядок, який треба зашифрувати;\n",
    "запитує користувача значення зсуву (ціле число з діапазону 1-25 - примітка: Ви повинні змусити користувача ввести дійсне значення зсуву (не здавайтеся і не дозволяйте некоректним даним обдурити Вас);\n",
    "друкує закодований текст.\n",
    "Протестуйте свій код, використовуючи надані нами дані."
   ]
  },
  {
   "cell_type": "code",
   "execution_count": 13,
   "metadata": {},
   "outputs": [],
   "source": [
    "def caesar_cipher(text, shift):\n",
    "    cipher = ''\n",
    "    for char in text:\n",
    "        if not char.isalpha():\n",
    "            cipher += char\n",
    "            continue\n",
    "            \n",
    "\n",
    "\n",
    "        case_diff = ord('A') if char.isupper() else ord('a')\n",
    "        shifted = (ord(char) - case_diff + shift) % 26 + case_diff\n",
    "        cipher += chr(shifted)\n",
    "\n",
    "    return cipher\n",
    "\n",
    "def get_valid_shift():\n",
    "    while True:\n",
    "        try:\n",
    "            shift = int(input(\"Enter the shift value (1-25): \"))\n",
    "            if 1 <= shift <= 25:\n",
    "                return shift\n",
    "            else:\n",
    "                print(\"Shift value must be between 1 and 25.\")\n",
    "        except ValueError:\n",
    "            print(\"Please enter a valid integer.\")\n",
    "\n",
    "text = input(\"Enter your message: \")\n",
    "shift = get_valid_shift()\n",
    "result = caesar_cipher(text, shift)\n",
    "print(\"Encoded message:\", result)"
   ]
  },
  {
   "attachments": {
    "b52b72d3-03b6-4370-8bce-ffab99962b8a.png": {
     "image/png": "[encoded data removed]"
    }
   },
   "cell_type": "markdown",
   "metadata": {},
   "source": [
    "![](attachment:b52b72d3-03b6-4370-8bce-ffab99962b8a.png)"
   ]
  },
  {
   "cell_type": "markdown",
   "metadata": {},
   "source": [
    "### Завдання для самостіної роботи\n",
    "\n",
    "1. Виконати приклади 1-4 і завдання 1, наведені вище у цьому зошиті.\n",
    "\n",
    "1. Створити файл __lab_9_StudentLastName.py__ з написаним кодом. \n",
    "\n",
    "1. Закомітити файл у локальний репозиторій.\n",
    "\n",
    "1. Відправити (\"запушити\") поточну версію Git-проєкта у віддалений репозиторій на GitHub.\n",
    "\n",
    "1. Звіт має складатися з файлу (за основу взяти __цей Python-зошит__)  `lab_9_StudentLastName.ipynb`. (Можливі якісь додакові файли)"
   ]
  },
  {
   "attachments": {
    "1e0fc363-b077-4e50-931b-e568c036908e.png": {
     "image/png": "[encoded data removed]"
    },
    "5dae1388-0b17-4710-af73-eb6d2a6c113c.png": {
     "image/png": "[encoded data removed]"
    },
    "ffeff26d-8f6e-4581-9d0d-9b1f63daa4ec.png": {
     "image/png": "[encoded data removed]"
    }
   },
   "cell_type": "markdown",
   "metadata": {},
   "source": [
    "### Контрольні запитання\n",
    "\n",
    "1. Який із наступних рядків описує справжню умову?\n",
    "\n",
    "![](attachment:5dae1388-0b17-4710-af73-eb6d2a6c113c.png)\n",
    "\n",
    "'Smith'>'1000'\n",
    "\n",
    "\n",
    "1. Який очікуваний результат наступного коду?\n",
    "\n",
    "![](attachment:ffeff26d-8f6e-4581-9d0d-9b1f63daa4ec.png)\n",
    "\n",
    "are\n",
    "\n",
    "\n",
    "1. Який очікуваний результат наступного коду?\n",
    "\n",
    "![](attachment:1e0fc363-b077-4e50-931b-e568c036908e.png)\n",
    "\n",
    "ValueError: invalid literal for int() with base 10: '12.8'"
   ]
  },
  {
   "cell_type": "markdown",
   "metadata": {},
   "source": [
    "### References"
   ]
  },
  {
   "cell_type": "markdown",
   "metadata": {},
   "source": [
    "1. [Anaconda (Python distribution)](https://uk.wikipedia.org/wiki/Anaconda_(Python_distribution))  \n",
    "1. [Conda](https://conda.io/en/latest/)  \n",
    "1. [Pro Git Book](https://git-scm.com/book/en/v2)  \n",
    "1. [OpenEDG Python Institute](https://pythoninstitute.org/)  \n",
    "1. [Cisco. Networking Academy](https://www.netacad.com/)  \n",
    "1. [Научно-издательская система Quarto](https://data-visualization-blog.netlify.app/posts/quarto/)\n",
    "1. [The Python Standard Library](https://docs.python.org/3/library/index.html)\n",
    "1. [Callout Blocks. Markdown Syntax](https://quarto.org/docs/authoring/callouts.html)  "
   ]
  }
 ],
 "metadata": {
  "kernelspec": {
   "display_name": "Python 3 (ipykernel)",
   "language": "python",
   "name": "python3"
  },
  "language_info": {
   "codemirror_mode": {
    "name": "ipython",
    "version": 3
   },
   "file_extension": ".py",
   "mimetype": "text/x-python",
   "name": "python",
   "nbconvert_exporter": "python",
   "pygments_lexer": "ipython3",
   "version": "3.11.4"
  },
  "widgets": {
   "application/vnd.jupyter.widget-state+json": {
    "state": {},
    "version_major": 2,
    "version_minor": 0
   }
  }
 },
 "nbformat": 4,
 "nbformat_minor": 4
}
