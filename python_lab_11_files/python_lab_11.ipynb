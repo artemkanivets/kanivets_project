{
 "cells": [
  {
   "cell_type": "markdown",
   "metadata": {},
   "source": [
    "---\n",
    "title: \"Лабораторна робота №11. Об'єктно-орієнтоване програмування. Частина І\"\n",
    "description:\n",
    "  Документ зроблено в [Quarto](https://quarto.org/)\n",
    "author: \"&copy; [Artem Kanivets], 2023\"\n",
    "lang: ukr\n",
    "format:\n",
    "  html:\n",
    "    code-fold: true\n",
    "    toc: true # меню\n",
    "    toc_float: # спливаюче меню  \n",
    "      collapsed: true # fdnj\n",
    "      number_sections: true\n",
    "jupyter: python3\n",
    "---"
   ]
  },
  {
   "cell_type": "markdown",
   "metadata": {},
   "source": [
    "__Мета:__ _навчитися обробляти рядки за допомогою спеціальних функцій і методів._"
   ]
  },
  {
   "cell_type": "markdown",
   "metadata": {},
   "source": [
    "::: callout-note\n",
    "## Примітка\n",
    "У лабораторній роботі використано матеріали [python institute.](https://pythoninstitute.org/pcep)\n",
    ":::"
   ]
  },
  {
   "cell_type": "markdown",
   "metadata": {
    "tags": []
   },
   "source": [
    "## Що ви будете вміти?\n",
    "* створювати класи та об'єкти у Python;\n",
    "* реалізувати механізми інкапсуляції та наслідування;\n",
    "* визначати власні винятки як клас і використовувати їх."
   ]
  },
  {
   "cell_type": "markdown",
   "metadata": {},
   "source": [
    "## Основи об'єктно-орієнтованого програмування на Python "
   ]
  },
  {
   "cell_type": "markdown",
   "metadata": {},
   "source": [
    "### Приклад 1\n",
    "\n",
    "В лекції 12 було показано, як розширити можливості `Stack`, визначивши новий клас (тобто підклас), який зберігає усі успадковані риси та додає деякі нові.\n",
    "\n",
    "Ваше завдання -- розширити поведінку класу `Stack` таким чином, щоб клас міг підраховувати всі елементи,\n",
    "що додаються і видаляються (ми припускаємо, що підрахунку видалень достатньо). Використовуйте клас `Stack`, який надано нижче.\n",
    "\n",
    "Дотримуйтесь підказок:\n",
    "\n",
    "* додайте властивість, призначену для підрахунку операцій `pop`, і дайте йому ім'я, що гарантує його приховування;\n",
    "* ініціалізуйте його нулем усередині конструктора;\n",
    "* додайте метод, який повертає поточне значення, надане лічильнику (назвіть його `get_counter()`).\n",
    "* перевірте код"
   ]
  },
  {
   "cell_type": "code",
   "execution_count": 8,
   "metadata": {},
   "outputs": [
    {
     "name": "stdout",
     "output_type": "stream",
     "text": [
      "100\n"
     ]
    }
   ],
   "source": [
    "class Stack:\n",
    "    def __init__(self):\n",
    "        self.__stk = []\n",
    "\n",
    "    def push(self, val):\n",
    "        self.__stk.append(val)\n",
    "\n",
    "    def pop(self):\n",
    "        val = self.__stk[-1]\n",
    "        del self.__stk[-1]\n",
    "        return val\n",
    "\n",
    "\n",
    "class CountingStack(Stack):\n",
    "    def __init__(self):\n",
    "        Stack.__init__(self)\n",
    "        self.__count = 0\n",
    "\n",
    "\n",
    "    def get_counter(self):\n",
    "        return self.__count\n",
    "\n",
    "\n",
    "    def pop(self):\n",
    "        val = Stack.pop(self)\n",
    "        self.__count += 1\n",
    "        return val\n",
    "\n",
    "\n",
    "\n",
    "stk = CountingStack()\n",
    "for i in range(100):\n",
    "    stk.push(i)\n",
    "    stk.pop()\n",
    "print(stk.get_counter())"
   ]
  },
  {
   "attachments": {
    "500bcdf1-53cd-40d0-9b35-eb327bb5f6cd.png": {
     "image/png": "[encoded data removed]"
    }
   },
   "cell_type": "markdown",
   "metadata": {},
   "source": [
    "![](attachment:500bcdf1-53cd-40d0-9b35-eb327bb5f6cd.png)"
   ]
  },
  {
   "cell_type": "markdown",
   "metadata": {},
   "source": [
    "::: callout-important\n",
    "## Важливо\n",
    "\n",
    "Повторити, що таке структура даних черга.\n",
    ":::"
   ]
  },
  {
   "cell_type": "markdown",
   "metadata": {},
   "source": [
    "### Приклад 2\n",
    "\n",
    "Як Ви вже знаєте, стек – це структура даних, що реалізує модель __LIFO (Last In – First Out)__.\n",
    "\n",
    "Черга -– це модель даних, що характеризується терміном __FIFO: First In – Fist Out__. Примітка: звичайна черга, відома Вам з магазинів або поштових відділень, працює так само - першим обслуговується покупець, який прийшов першим.\n",
    "\n",
    "Ваше завдання -– реалізувати клас `Queue` з двома основними операціями:\n",
    "\n",
    "* `put(element)`, яка поміщає елемент на кінець черги;\n",
    "* `get()`, яка бере елемент із початку черги і повертає його як результат (черга не може бути порожньою для успішного виконання).\n",
    "\n",
    "Дотримуйтесь підказок:\n",
    "\n",
    "* використовуйте список як сховище (як і у випадку зі стеком);\n",
    "* `put()` повинен додавати елементи на початок списку, а get() повинен видаляти елементи з кінця списку;\n",
    "* визначте новий виняток із ім'ям `QueueError` (виберіть виняток для його створення) та викличте його, коли `get()` спробує працювати з порожнім списком.\n",
    "\n",
    "Протестуйте код, використовуючи надані нами дані.\n",
    "\n",
    "### Очікуваний результат\n",
    "\n",
    "`1`  \n",
    "`dog`  \n",
    "`False`  \n",
    "`Queue error`  "
   ]
  },
  {
   "cell_type": "code",
   "execution_count": 10,
   "metadata": {},
   "outputs": [
    {
     "name": "stdout",
     "output_type": "stream",
     "text": [
      "1\n",
      "dog\n",
      "False\n",
      "Queue error\n"
     ]
    }
   ],
   "source": [
    "class QueueError(Exception):   # Choose base class for the new exception.\n",
    "    pass\n",
    "\n",
    "\n",
    "class Queue:\n",
    "    def __init__(self):\n",
    "        self.list_queue = []\n",
    "\n",
    "    def put(self, elem):\n",
    "        self.list_queue.insert(0, elem)\n",
    "\n",
    "\n",
    "    def get(self):\n",
    "        if not len(self.list_queue):\n",
    "            raise QueueError\n",
    "        else:\n",
    "            elem = self.list_queue.pop()\n",
    "        return elem\n",
    "\n",
    "    \n",
    "#     Альтернативний варіант\n",
    "    # def get(self):\n",
    "    #     if len(self.queue) > 0:\n",
    "    #         elem = self.queue[-1]\n",
    "    #         del self.queue[-1]\n",
    "    #         return elem\n",
    "    #     else:\n",
    "    #         raise QueueError\n",
    "\n",
    "que = Queue()\n",
    "que.put(1)\n",
    "que.put(\"dog\")\n",
    "que.put(False)\n",
    "# print(que.get())\n",
    "try:\n",
    "    for i in range(4):\n",
    "        print(que.get())\n",
    "except QueueError:\n",
    "    print(\"Queue error\")\n"
   ]
  },
  {
   "attachments": {
    "884c2403-2010-4d1e-afe3-f28b266263cf.png": {
     "image/png": "[encoded data removed]"
    }
   },
   "cell_type": "markdown",
   "metadata": {},
   "source": [
    "![](attachment:884c2403-2010-4d1e-afe3-f28b266263cf.png)"
   ]
  },
  {
   "cell_type": "markdown",
   "metadata": {},
   "source": [
    "### Завдання 1"
   ]
  },
  {
   "cell_type": "markdown",
   "metadata": {},
   "source": [
    "Ваше завдання –- трохи розширити можливості класу `Queue` (див. попередній приклад). Нам потрібен метод без параметрів, який повертає `True`, якщо черга порожня, і `False` інакше.\n",
    "\n",
    "Доповніть код, який надано нижче. Запустіть його, щоб перевірити, чи дає він результат, аналогічний нашому."
   ]
  },
  {
   "cell_type": "code",
   "execution_count": 11,
   "metadata": {},
   "outputs": [],
   "source": [
    "class QueueError(Exception):\n",
    "    pass\n",
    "\n",
    "\n",
    "class Queue:\n",
    "    def __init__(self):\n",
    "        self.list_queue = []\n",
    "\n",
    "    def put(self, elem):\n",
    "        self.list_queue.insert(0, elem)\n",
    "\n",
    "    def get(self):\n",
    "        if not len(self.list_queue):\n",
    "            raise QueueError(\"Queue is empty\")\n",
    "        else:\n",
    "            elem = self.list_queue.pop()\n",
    "        return elem\n",
    "\n",
    "\n",
    "\n",
    "\n",
    "class SuperQueue(Queue):\n",
    "    def isempty(self):\n",
    "        return not bool(self.list_queue)\n",
    "\n",
    "\n",
    "que = SuperQueue()\n",
    "que.put(1)\n",
    "que.put(\"dog\")\n",
    "que.put(False)\n",
    "for i in range(4):\n",
    "    if not que.isempty():\n",
    "        print(que.get())\n",
    "    else:\n",
    "        print(\"Queue empty\")"
   ]
  },
  {
   "attachments": {
    "cdca6e33-2f52-4fcb-bbd8-2bf8dd678108.png": {
     "image/png": "[encoded data removed]"
    }
   },
   "cell_type": "markdown",
   "metadata": {},
   "source": [
    "![](attachment:cdca6e33-2f52-4fcb-bbd8-2bf8dd678108.png)"
   ]
  },
  {
   "cell_type": "markdown",
   "metadata": {},
   "source": [
    "### Очікуваний результат\n",
    "\n",
    "`1`  \n",
    "`dog`  \n",
    "`False`  \n",
    "`Queue empty`  "
   ]
  },
  {
   "cell_type": "markdown",
   "metadata": {},
   "source": [
    "## Завдання для самостіної роботи\n",
    "\n",
    "1. Виконати приклади 1, 2 і завдання 1, наведені вище у цьому зошиті.\n",
    "\n",
    "1. Створити файл __lab_11_StudentLastName.py__ з написаним кодом. \n",
    "\n",
    "1. Закомітити файл у локальний репозиторій.\n",
    "\n",
    "1. Відправити (\"запушити\") поточну версію Git-проєкта у віддалений репозиторій на GitHub.\n",
    "\n",
    "1. Звіт має складатися з файлу (за основу взяти __цей Python-зошит__)  `lab_11_StudentLastName.ipynb`. (Можливі якісь додакові файли)"
   ]
  },
  {
   "attachments": {
    "7454e73f-edb1-4ab4-a061-bc2e9369353c.png": {
     "image/png": "[encoded data removed]"
    },
    "c97b00fe-a1a1-4622-9717-8f9a5dcd67ea.png": {
     "image/png": "[encoded data removed]"
    }
   },
   "cell_type": "markdown",
   "metadata": {},
   "source": [
    "## Контрольні запитання\n",
    "\n",
    "1. У наступному оголошенні чогось не вистачає – чого?\n",
    "![image.png](attachment:c97b00fe-a1a1-4622-9717-8f9a5dcd67ea.png)\n",
    "\n",
    "\n",
    "\n",
    "1. Припускаючи, що існує клас з ім'ям `Snake`, напишіть перший рядок оголошення класу Python, вказавши, що новий клас насправді є підкласом Snake.\n",
    "\n",
    "1. Змініть код, щоб гарантувати, що властивість `venomous` є приватною.\n",
    "![image.png](attachment:7454e73f-edb1-4ab4-a061-bc2e9369353c.png)"
   ]
  },
  {
   "cell_type": "markdown",
   "metadata": {},
   "source": [
    "## References"
   ]
  },
  {
   "cell_type": "markdown",
   "metadata": {},
   "source": [
    "1. [Anaconda (Python distribution)](https://uk.wikipedia.org/wiki/Anaconda_(Python_distribution))  \n",
    "1. [Conda](https://conda.io/en/latest/)  \n",
    "1. [Pro Git Book](https://git-scm.com/book/en/v2)  \n",
    "1. [OpenEDG Python Institute](https://pythoninstitute.org/)  \n",
    "1. [Cisco. Networking Academy](https://www.netacad.com/)  \n",
    "1. [Научно-издательская система Quarto](https://data-visualization-blog.netlify.app/posts/quarto/)\n",
    "1. [The Python Standard Library](https://docs.python.org/3/library/index.html)\n",
    "1. [Callout Blocks. Markdown Syntax](https://quarto.org/docs/authoring/callouts.html)  \n",
    "1. [5. Built-in Exceptions](https://docs.python.org/3.6/library/exceptions.html)"
   ]
  }
 ],
 "metadata": {
  "kernelspec": {
   "display_name": "Python 3 (ipykernel)",
   "language": "python",
   "name": "python3"
  },
  "language_info": {
   "codemirror_mode": {
    "name": "ipython",
    "version": 3
   },
   "file_extension": ".py",
   "mimetype": "text/x-python",
   "name": "python",
   "nbconvert_exporter": "python",
   "pygments_lexer": "ipython3",
   "version": "3.11.4"
  },
  "widgets": {
   "application/vnd.jupyter.widget-state+json": {
    "state": {},
    "version_major": 2,
    "version_minor": 0
   }
  }
 },
 "nbformat": 4,
 "nbformat_minor": 4
}
