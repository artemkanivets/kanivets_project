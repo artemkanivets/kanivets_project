{
 "cells": [
  {
   "cell_type": "markdown",
   "metadata": {},
   "source": [
    "---\n",
    "title: 'Лабораторна робота №6. Функції'\n",
    "description:\n",
    "   Документ зроблено за допомогою [Quarto](https://quarto.org/)\n",
    "author: \"&copy; [<span style='color: blue;'>Artem Kanivets </span>], 2023\"\n",
    "lang: ukr\n",
    "format:\n",
    "  html:\n",
    "    code-fold: true\n",
    "    toc: true # меню\n",
    "    toc_float: # спливаюче меню  \n",
    "      collapsed: true # авто\n",
    "      number_sections: true\n",
    "jupyter: python3\n",
    "---"
   ]
  },
  {
   "cell_type": "markdown",
   "metadata": {},
   "source": [
    "__Мета:__ _навчитися писати функції та користуватися ними_"
   ]
  },
  {
   "cell_type": "markdown",
   "metadata": {
    "tags": []
   },
   "source": [
    "## Що ви будете вміти?\n",
    "* створювати користувацькі функції.\n",
    "* викликати користувацькі функції з параметрами та без.\n",
    "* освоїте обробку списків за допомогою функцій."
   ]
  },
  {
   "cell_type": "markdown",
   "metadata": {},
   "source": [
    "### Завдання 1\n",
    "\n",
    "Написати і протестувати функцію, яка приймає один аргумент (рік) і повертає `True`, якщо рік є високосним, або `False` інакше.\n",
    "\n",
    "Основу функції вже закладено у коді в редакторі.\n",
    "\n",
    "::: callout-note\n",
    "## Примітка\n",
    "Для вас підготовлено короткий тестуючий код, який можна використовувати для перевірки своєї функції.\n",
    ":::\n",
    "\n",
    "У коді використовуються два списки - один із тестовими даними, інший - з очікуваними результатами. Код повідомить Вам, якщо якісь із Ваших результатів неправильні."
   ]
  },
  {
   "cell_type": "code",
   "execution_count": 6,
   "metadata": {},
   "outputs": [],
   "source": [
    "\n",
    "def is_year_leap(year):\n",
    "    if (year % 4) != 0:\n",
    "        return False\n",
    "    elif (year % 100) != 0:\n",
    "        return True\n",
    "    elif (year % 400) != 0:\n",
    "        return False\n",
    "    else:\n",
    "        return True\n",
    "\n",
    "test_data = [1900, 2000, 2016, 1987]\n",
    "test_results = [False, True, True, False]\n",
    "for i in range(len(test_data)):\n",
    "\tyr = test_data[i]\n",
    "\tprint(yr,\"->\",end=\"\")\n",
    "\tresult = is_year_leap(yr)\n",
    "\tif result == test_results[i]:\n",
    "\t\tprint(\"OK\")\n",
    "\telse:\n",
    "\t\tprint(\"Failed\")"
   ]
  },
  {
   "attachments": {
    "7242f472-4cfa-4b85-a7b7-3f1dbe46ee03.png": {
     "image/png": "[encoded data removed]"
    }
   },
   "cell_type": "markdown",
   "metadata": {},
   "source": [
    "![](attachment:7242f472-4cfa-4b85-a7b7-3f1dbe46ee03.png)"
   ]
  },
  {
   "cell_type": "markdown",
   "metadata": {},
   "source": [
    "### Завдання 2 "
   ]
  },
  {
   "cell_type": "markdown",
   "metadata": {},
   "source": [
    "Написати та протестувати функцію, яка приймає два аргументи (рік і місяць) і повертає кількість днів для даної пари рік-місяць (у той час, як тільки лютий чутливий до значення `year`, Ваша функція має бути універсальною).\n",
    "\n",
    "Початок функції готовий. Тепер переконайте функцію повернути `None`, якщо її аргументи не мають сенсу.\n",
    "\n",
    "Звичайно, Ви можете (і повинні) використовувати раніше написану та протестовану функцію (див. попередні лаб. роб.). Це може бути дуже корисним. Ми рекомендуємо використовувати список із зазначенням довжини місяців. Ви можете створити його всередині функції – цей трюк значно скоротить код.\n",
    "\n",
    "Ми підготували тестуючий код. Розвійте його, щоб увімкнути більше тестових випадків."
   ]
  },
  {
   "cell_type": "code",
   "execution_count": 7,
   "metadata": {},
   "outputs": [],
   "source": [
    "def is_year_leap(year):\n",
    "    if (year % 4) != 0:\n",
    "        return False\n",
    "    elif (year % 100) != 0:\n",
    "        return True\n",
    "    elif (year % 400) != 0:\n",
    "        return False\n",
    "    else:\n",
    "        return True\n",
    "\n",
    "def days_in_month(year, month):\n",
    "\n",
    "    days_in_months = [31, 28, 31, 30, 31, 30, 31, 31, 30, 31, 30, 31]\n",
    "    if month < 1 or month > 12 or year < 1:\n",
    "        return None\n",
    "    if is_year_leap(year):\n",
    "        days_in_months[1] = 29\n",
    "    return days_in_months[month - 1]\n",
    "\n",
    "test_years = [1900, 2000, 2016, 1987]\n",
    "test_months = [2, 2, 1, 11]\n",
    "test_results = [28, 29, 31, 30]\n",
    "for i in range(len(test_years)):\n",
    "\tyr = test_years[i]\n",
    "\tmo = test_months[i]\n",
    "\tprint(yr, mo, \"->\", end=\"\")\n",
    "\tresult = days_in_month(yr, mo)\n",
    "\tif result == test_results[i]:\n",
    "\t\tprint(\"OK\")\n",
    "\telse:\n",
    "\t\tprint(\"Failed\")"
   ]
  },
  {
   "attachments": {
    "d075c876-31a4-4f3f-979e-3a650679415a.png": {
     "image/png": "[encoded data removed]"
    }
   },
   "cell_type": "markdown",
   "metadata": {},
   "source": [
    "![](attachment:d075c876-31a4-4f3f-979e-3a650679415a.png)"
   ]
  },
  {
   "cell_type": "markdown",
   "metadata": {},
   "source": [
    "### Завдання 3\n",
    "\n",
    "Написати та протестувати функцію, яка приймає три аргументи (рік, місяць та день місяця) та повертає відповідний день року або None, якщо якийсь із аргументів невірний.\n",
    "\n",
    "Використовуйте раніше написані та протестовані функції. Додайте до коду свої власні тестові випадки."
   ]
  },
  {
   "cell_type": "code",
   "execution_count": 8,
   "metadata": {},
   "outputs": [],
   "source": [
    "def is_year_leap(year):\n",
    "\n",
    "    if (year % 4) != 0:\n",
    "        return False\n",
    "    elif (year % 100) != 0:\n",
    "        return True\n",
    "    elif (year % 400) != 0:\n",
    "        return False\n",
    "    else:\n",
    "        return True\n",
    "\n",
    "def days_in_month(year, month):\n",
    "\n",
    "    days_in_months = [31, 28, 31, 30, 31, 30, 31, 31, 30, 31, 30, 31]\n",
    "    if month < 1 or month > 12 or year < 1:\n",
    "        return None\n",
    "    if is_year_leap(year):\n",
    "        days_in_months[1] = 29\n",
    "    return days_in_months[month - 1]\n",
    "\n",
    "def day_of_year(year, month, day):\n",
    "    if month < 1 or month > 12 or year < 1 or day < 1:\n",
    "        return None\n",
    "\n",
    "    days_in_month_value = days_in_month(year, month)\n",
    "\n",
    "    if days_in_month_value is None or day > days_in_month_value:\n",
    "        return None\n",
    "\n",
    "    # Сума днів попередніх місяців + дні в поточному місяці\n",
    "    total_days = sum(days_in_month(year, m) for m in range(1, month)) + day\n",
    "    return total_days\n",
    "\n",
    "\n",
    "print(f'2000 12 31 :{day_of_year(2000, 12, 31)}')\n",
    "print(f'2015 6 25 :{day_of_year(2015, 6, 25)}')\n",
    "print(f'2011 1 45 :{day_of_year(2011, 1, 45)}')\n",
    "print(f'2007 5 12 :{day_of_year(2007, 5, 12)}')\n"
   ]
  },
  {
   "attachments": {
    "ab971345-f84c-45ed-bead-0226a25acce8.png": {
     "image/png": "[encoded data removed]"
    }
   },
   "cell_type": "markdown",
   "metadata": {},
   "source": [
    "![](attachment:ab971345-f84c-45ed-bead-0226a25acce8.png)"
   ]
  },
  {
   "cell_type": "markdown",
   "metadata": {},
   "source": [
    "###  Завдання 4"
   ]
  },
  {
   "cell_type": "markdown",
   "metadata": {},
   "source": [
    "Натуральне число є простим, якщо воно більше 1 і не має дільників, крім 1 і самого себе.\n",
    "\n",
    "Важко? Зовсім ні. Наприклад, 8 не є простим числом, оскільки Ви можете розділити його на 2 та 4 (ми не можемо використовувати дільники, рівні 1 та 8, оскільки визначення забороняє це).\n",
    "\n",
    "З іншого боку, 7 - просте число, оскільки ми можемо знайти йому підходящих дільників.\n",
    "\n",
    "\n",
    "Ваше завдання - написати функцію, що перевіряє, чи є число простим чи ні.\n",
    "\n",
    "Функція:\n",
    "\n",
    "* називається `is_prime`;\n",
    "* приймає один аргумент (значення для перевірки)\n",
    "* повертає `True`, якщо аргумент є простим числом, і `False` інакше.  \n",
    "\n",
    "::: callout-note\n",
    "## Підказка\n",
    "Спробуйте розділити аргумент на всі наступні значення (починаючи з 2) і перевірте залишок - якщо він дорівнює нулю, Ваше число не може бути простим; добре подумайте, коли вам слід зупинити процес.\n",
    ":::\n",
    "\n",
    "Якщо вам потрібно знайти квадратний корінь із будь-якого значення, Ви можете використовувати оператор `**`. Пам'ятайте: квадратний корінь `x` дорівнює $x^{0,5}$.\n",
    "\n",
    "Доповніть код у редакторі."
   ]
  },
  {
   "cell_type": "code",
   "execution_count": 12,
   "metadata": {},
   "outputs": [],
   "source": [
    "def is_prime(num):\n",
    "\n",
    "    if num <= 1:\n",
    "        return False\n",
    "    elif num <= 3:\n",
    "        return True\n",
    "    elif num % 2 == 0 or num % 3 == 0:\n",
    "        return False\n",
    "    i = 5\n",
    "    while i * i <= num:\n",
    "        if num % i == 0 or num % (i + 2) == 0:\n",
    "            return False\n",
    "        i += 6\n",
    "    return True\n",
    "\n",
    "for i in range(1, 20):\n",
    "\tif is_prime(i + 1):\n",
    "\t\t\tprint(i + 1, end=\" \")"
   ]
  },
  {
   "attachments": {
    "556189f6-438d-4de9-b914-ccbe826e188d.png": {
     "image/png": "[encoded data removed]"
    }
   },
   "cell_type": "markdown",
   "metadata": {},
   "source": [
    "![](attachment:556189f6-438d-4de9-b914-ccbe826e188d.png)"
   ]
  },
  {
   "cell_type": "markdown",
   "metadata": {},
   "source": [
    "### Очікуваний вивод"
   ]
  },
  {
   "cell_type": "markdown",
   "metadata": {},
   "source": [
    "`2 3 5 7 11 13 17 19`"
   ]
  },
  {
   "cell_type": "markdown",
   "metadata": {},
   "source": [
    "### Завдання 5"
   ]
  },
  {
   "cell_type": "markdown",
   "metadata": {},
   "source": [
    "Витрата палива автомобіля можна висловити по-різному. Наприклад, у Європі він відображається як кількість витраченого палива на 100 кілометрів шляху.\n",
    "\n",
    "У США він відображається як кількість миль, пройдених автомобілем під час витрачання одного галону палива.\n",
    "\n",
    "Ваше завдання - написати дві функції, що конвертують л/100км в миль на галон, і навпаки.\n",
    "\n",
    "Функції:\n",
    "\n",
    "* названі `liters_100km_to_miles_gallon` та `miles_gallon_to_liters_100km` відповідно;\n",
    "* приймають один аргумент (значення, що відповідає їхнім іменам)  \n",
    "\n",
    "Доповніть код у редакторі.\n",
    "\n",
    "Запустіть свій код і перевірте, чи Ваш результат збігається з нашим.\n",
    "\n",
    "Ось деяка інформація, яка може допомогти Вам:\n",
    "\n",
    "* 1 американська мідя = 1609.344 метрів;\n",
    "* 1 американський галон = 3.785411784 літрів."
   ]
  },
  {
   "cell_type": "code",
   "execution_count": 13,
   "metadata": {},
   "outputs": [],
   "source": [
    "def liters_100km_to_miles_gallon(liters):\n",
    "\n",
    "    miles_per_100km = 100000 / 1609.344\n",
    "    gallons_per_liter = 1 / 3.785411784\n",
    "    miles = miles_per_100km / liters\n",
    "    gallons = miles / gallons_per_liter\n",
    "    return gallons\n",
    "\n",
    "\n",
    "def miles_gallon_to_liters_100km(miles):\n",
    "\n",
    "    kilometers_per_mile = 1.609344\n",
    "    liters_per_gallon = 3.785411784\n",
    "    kilometers = miles * kilometers_per_mile\n",
    "    liters = liters_per_gallon / (kilometers / 100)\n",
    "    return liters\n",
    "\n",
    "\n",
    "print(liters_100km_to_miles_gallon(3.9))\n",
    "print(liters_100km_to_miles_gallon(7.5))\n",
    "print(liters_100km_to_miles_gallon(10.))\n",
    "print(miles_gallon_to_liters_100km(60.3))\n",
    "print(miles_gallon_to_liters_100km(31.4))\n",
    "print(miles_gallon_to_liters_100km(23.5))"
   ]
  },
  {
   "attachments": {
    "40f726aa-5c8d-47c4-93a1-548b270ddcd9.png": {
     "image/png": "[encoded data removed]"
    }
   },
   "cell_type": "markdown",
   "metadata": {},
   "source": [
    "![](attachment:40f726aa-5c8d-47c4-93a1-548b270ddcd9.png)"
   ]
  },
  {
   "cell_type": "markdown",
   "metadata": {},
   "source": [
    "### Очікуваний вивод"
   ]
  },
  {
   "cell_type": "markdown",
   "metadata": {},
   "source": [
    "`60.31143162393162`  \n",
    "`31.36194444444444`  \n",
    "`23.52145833333333`  \n",
    "`3.9007393587617467`  \n",
    "`7.490910297239916`  \n",
    "`10.009131205673757`"
   ]
  },
  {
   "cell_type": "markdown",
   "metadata": {},
   "source": [
    "### Завдання 6 "
   ]
  },
  {
   "cell_type": "markdown",
   "metadata": {},
   "source": [
    "Написати функцію, яка перевіряє, чи три сторони заданої довжини побудувати трикутник. Вона має повернути `True`, якщо сторони можуть утворити трикутник, і `False` в іншому випадку. У цьому випадку `is_a_triangle(a, b, c)` – гарна назва для такої функції."
   ]
  },
  {
   "cell_type": "code",
   "execution_count": 21,
   "metadata": {},
   "outputs": [],
   "source": [
    "\n",
    "def is_a_triangle(a, b, c):\n",
    "    return (a + b > c) and (a + c > b) and (b + c > a)\n",
    "\n",
    "print(is_a_triangle(1,2,3))\n",
    "print(is_a_triangle(5,4,6))\n",
    "print(is_a_triangle(1,4,2))\n",
    "print(is_a_triangle(15,20,14))"
   ]
  },
  {
   "attachments": {
    "18ffe04a-20f2-4315-bbf6-f32f92fef923.png": {
     "image/png": "[encoded data removed]"
    }
   },
   "cell_type": "markdown",
   "metadata": {},
   "source": [
    "![](attachment:18ffe04a-20f2-4315-bbf6-f32f92fef923.png)"
   ]
  },
  {
   "cell_type": "markdown",
   "metadata": {},
   "source": [
    "### Завдання 7 "
   ]
  },
  {
   "cell_type": "markdown",
   "metadata": {},
   "source": [
    "Написати функцію `is_a_right_triangle(a, b, c)`, яка перевіряє, чи є трикутник зі сторонами `a`, `b`, `c` прямокутним. При цьому потрібно використати функцію `is_a_triangle(a, b, c)` з завдання 6. "
   ]
  },
  {
   "cell_type": "code",
   "execution_count": 23,
   "metadata": {},
   "outputs": [],
   "source": [
    "def is_a_triangle(a, b, c):\n",
    "    return (a + b > c) and (a + c > b) and (b + c > a)\n",
    "\n",
    "def is_a_right_triangle(a, b, c):\n",
    "    if not is_a_triangle(a, b, c):\n",
    "        return False\n",
    "\n",
    "    sides = [a, b, c]\n",
    "    max_side = max(sides)\n",
    "    sides.remove(max_side)\n",
    "\n",
    "    return max_side ** 2 == sides[0] ** 2 + sides[1] ** 2\n",
    "\n",
    "print(is_a_right_triangle(4,5,3))\n",
    "print(is_a_right_triangle(5,10,6))\n",
    "print(is_a_right_triangle(1,6,2))\n",
    "print(is_a_right_triangle(5,12,13))"
   ]
  },
  {
   "attachments": {
    "81d51464-c8a2-4ea6-bfe3-eba7fd66d097.png": {
     "image/png": "[encoded data removed]"
    }
   },
   "cell_type": "markdown",
   "metadata": {},
   "source": [
    "![](attachment:81d51464-c8a2-4ea6-bfe3-eba7fd66d097.png)"
   ]
  },
  {
   "cell_type": "markdown",
   "metadata": {},
   "source": [
    "## Завдання для самостіної роботи\n",
    "\n",
    "1. Виконати завдання 1-7 наведені вище у цьому зошиті.\n",
    "\n",
    "1. Створити файл __lab_6_StudentLastName.py__ з написаним кодом. \n",
    "\n",
    "1. Закомітити файл у локальний репозиторій.\n",
    "\n",
    "1. Відправити (\"запушити\") поточну версію Git-проєкта у віддалений репозиторій на GitHub.\n",
    "\n",
    "1. Звіт має складатися з файлу (за основу взяти __цей Python-зошит__)  `lab_6_StudentLastName.ipynb`. (Можливі якісь додакові файли)"
   ]
  },
  {
   "cell_type": "markdown",
   "metadata": {},
   "source": [
    "## References"
   ]
  },
  {
   "cell_type": "markdown",
   "metadata": {},
   "source": [
    "1. [Anaconda (Python distribution)](https://uk.wikipedia.org/wiki/Anaconda_(Python_distribution))\n",
    "2. [Conda](https://conda.io/en/latest/)\n",
    "3. [Pro Git Book](https://git-scm.com/book/en/v2)\n",
    "4. [OpenEDG Python Institute](https://pythoninstitute.org/)\n",
    "5. [Cisco. Networking Academy](https://www.netacad.com/)\n",
    "6. [Научно-издательская система Quarto](https://data-visualization-blog.netlify.app/posts/quarto/)"
   ]
  }
 ],
 "metadata": {
  "kernelspec": {
   "display_name": "Python 3 (ipykernel)",
   "language": "python",
   "name": "python3"
  },
  "language_info": {
   "codemirror_mode": {
    "name": "ipython",
    "version": 3
   },
   "file_extension": ".py",
   "mimetype": "text/x-python",
   "name": "python",
   "nbconvert_exporter": "python",
   "pygments_lexer": "ipython3",
   "version": "3.11.4"
  },
  "widgets": {
   "application/vnd.jupyter.widget-state+json": {
    "state": {},
    "version_major": 2,
    "version_minor": 0
   }
  }
 },
 "nbformat": 4,
 "nbformat_minor": 4
}
